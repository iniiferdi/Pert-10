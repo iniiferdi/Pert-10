{
 "cells": [
  {
   "cell_type": "code",
   "execution_count": null,
   "metadata": {},
   "outputs": [
    {
     "data": {
      "text/plain": [
       "'Faktorial dari 4 adalah = 4'"
      ]
     },
     "execution_count": 2,
     "metadata": {},
     "output_type": "execute_result"
    }
   ],
   "source": [
    "def fact(value):\n",
    "    if value == 1:\n",
    "        return 1\n",
    "    else:\n",
    "        return (value * fact(value - 1))\n",
    "\n",
    "userInput = int(input(\"Input number = \"))\n",
    "fact(userInput)"
   ]
  },
  {
   "cell_type": "code",
   "execution_count": 2,
   "metadata": {},
   "outputs": [
    {
     "name": "stdout",
     "output_type": "stream",
     "text": [
      "Luas lingkaran adalah: 50.27\n",
      "Program selesai.\n"
     ]
    }
   ],
   "source": [
    "import math\n",
    "\n",
    "def area_circle():\n",
    "    radius = float(input(\"Masukkan jari-jari lingkaran: \"))\n",
    "    area = math.pi * (radius ** 2)\n",
    "    print(f\"Luas lingkaran adalah: {area:.2f}\")\n",
    "\n",
    "def area_square():\n",
    "    side = float(input(\"Masukkan panjang sisi persegi: \"))\n",
    "    area = side ** 2\n",
    "    print(f\"Luas persegi adalah: {area:.2f}\")\n",
    "\n",
    "def area_triangle():\n",
    "    base = float(input(\"Masukkan panjang alas segitiga: \"))\n",
    "    height = float(input(\"Masukkan tinggi segitiga: \"))\n",
    "    area = 0.5 * base * height\n",
    "    print(f\"Luas segitiga adalah: {area:.2f}\")\n",
    "\n",
    "def main():\n",
    "    while True:\n",
    "        choice = input(\"\\nPilih perhitungan (1: Luas Lingkaran, 2: Luas Persegi, 3: Luas Segitiga, 4: Keluar): \")\n",
    "        \n",
    "        if choice == '1':\n",
    "            area_circle()\n",
    "        elif choice == '2':\n",
    "            area_square()\n",
    "        elif choice == '3':\n",
    "            area_triangle()\n",
    "        elif choice == '4':\n",
    "            print(\"Program selesai.\")\n",
    "            break\n",
    "        else:\n",
    "            print(\"Pilihan tidak valid, silakan coba lagi.\")\n",
    "\n",
    "\n",
    "main()\n"
   ]
  }
 ],
 "metadata": {
  "kernelspec": {
   "display_name": "Python 3",
   "language": "python",
   "name": "python3"
  },
  "language_info": {
   "codemirror_mode": {
    "name": "ipython",
    "version": 3
   },
   "file_extension": ".py",
   "mimetype": "text/x-python",
   "name": "python",
   "nbconvert_exporter": "python",
   "pygments_lexer": "ipython3",
   "version": "3.12.5"
  }
 },
 "nbformat": 4,
 "nbformat_minor": 2
}
